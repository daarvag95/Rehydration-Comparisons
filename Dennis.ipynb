{
 "cells": [
  {
   "cell_type": "code",
   "execution_count": 1,
   "id": "8678a66c",
   "metadata": {},
   "outputs": [],
   "source": [
    "import pandas as pd\n",
    "import datetime\n",
    "from ratelimit import limits, sleep_and_retry\n",
    "from keys import *"
   ]
  },
  {
   "cell_type": "code",
   "execution_count": 2,
   "id": "c55c035c",
   "metadata": {},
   "outputs": [],
   "source": [
    "data = pd.read_csv('tweet_ids.utf-8.csv')\n",
    "\n",
    "all_ids = list(data['id'])"
   ]
  },
  {
   "cell_type": "code",
   "execution_count": 3,
   "id": "2264acde",
   "metadata": {
    "scrolled": true
   },
   "outputs": [],
   "source": [
    "import requests\n",
    "import os\n",
    "import json\n",
    "\n",
    "# To set your enviornment variables in your terminal run the following line:\n",
    "# export 'BEARER_TOKEN'='<your_bearer_token>'\n",
    "# bearer_token = os.environ.get(\"BEARER_TOKEN\")\n",
    "\n",
    "\n",
    "tweets_list = []\n",
    "\n",
    "\n",
    "def create_url(ids):\n",
    "    tweet_fields = \"tweet.fields=lang,author_id\"\n",
    "    # Tweet fields are adjustable.\n",
    "    # Options include:\n",
    "    # attachments, author_id, context_annotations,\n",
    "    # conversation_id, created_at, entities, geo, id,\n",
    "    # in_reply_to_user_id, lang, non_public_metrics, organic_metrics,\n",
    "    # possibly_sensitive, promoted_metrics, public_metrics, referenced_tweets,\n",
    "    # source, text, and withheld\n",
    "#     ids = \"ids=1278747501642657792,1255542774432063488\"\n",
    "    # You can adjust ids to include a single Tweets.\n",
    "    # Or you can add to up to 100 comma-separated IDs\n",
    "    url = \"https://api.twitter.com/2/tweets?{}&{}\".format(ids, tweet_fields)\n",
    "    return url\n",
    "\n",
    "\n",
    "def bearer_oauth(r):\n",
    "    \"\"\"\n",
    "    Method required by bearer token authentication.\n",
    "    \"\"\"\n",
    "\n",
    "    r.headers[\"Authorization\"] = f\"Bearer {bearer_token}\"\n",
    "    r.headers[\"User-Agent\"] = \"v2TweetLookupPython\"\n",
    "    return r\n",
    "\n",
    "\n",
    "def connect_to_endpoint(url):\n",
    "    response = requests.request(\"GET\", url, auth=bearer_oauth)\n",
    "#     print(response.status_code)\n",
    "    if response.status_code != 200:\n",
    "        raise Exception(\n",
    "            \"Request returned an error: {} {}\".format(\n",
    "                response.status_code, response.text\n",
    "            )\n",
    "        )\n",
    "    return response.json()\n",
    "\n",
    "@sleep_and_retry\n",
    "@limits(calls=1, period=3)\n",
    "def main(ids):\n",
    "    url = create_url(ids)\n",
    "    json_response = connect_to_endpoint(url)\n",
    "#     print(json.dumps(json_response, indent=4, sort_keys=True))\n",
    "    tweets_list.append(json_response['data'])\n",
    "\n",
    "\n",
    "# if __name__ == \"__main__\":\n",
    "#     main()"
   ]
  },
  {
   "cell_type": "code",
   "execution_count": 4,
   "id": "7aa243b3",
   "metadata": {},
   "outputs": [],
   "source": [
    "def run(no_of_tweets):\n",
    "    \n",
    "    batches = no_of_tweets // 100\n",
    "    \n",
    "    for i in range(batches): \n",
    "        \n",
    "        tweet_ids = all_ids[i*100: i*100+100]\n",
    "        \n",
    "        ids = 'ids=' + str(tweet_ids[0])\n",
    "        for j in range(99):\n",
    "            ids = ids + ',' + str(tweet_ids[j+1])\n",
    "        \n",
    "        main(ids)\n",
    "        \n",
    "        print (f'get_tweets was run {i+1} times!\\n')"
   ]
  },
  {
   "cell_type": "code",
   "execution_count": 5,
   "id": "a2996d84",
   "metadata": {},
   "outputs": [
    {
     "name": "stdout",
     "output_type": "stream",
     "text": [
      "get_tweets was run 1 times!\n",
      "\n",
      "get_tweets was run 2 times!\n",
      "\n",
      "get_tweets was run 3 times!\n",
      "\n",
      "get_tweets was run 4 times!\n",
      "\n",
      "get_tweets was run 5 times!\n",
      "\n",
      "get_tweets was run 6 times!\n",
      "\n",
      "get_tweets was run 7 times!\n",
      "\n",
      "get_tweets was run 8 times!\n",
      "\n",
      "get_tweets was run 9 times!\n",
      "\n",
      "get_tweets was run 10 times!\n",
      "\n",
      "runtime: 0:00:25.656447\n"
     ]
    }
   ],
   "source": [
    "begin_time = datetime.datetime.now()\n",
    "\n",
    "run(1000)\n",
    "\n",
    "end_time = datetime.datetime.now()\n",
    "runtime = end_time - begin_time\n",
    "print (f'runtime: {runtime}')"
   ]
  },
  {
   "cell_type": "code",
   "execution_count": 10,
   "id": "2015acb8",
   "metadata": {},
   "outputs": [
    {
     "data": {
      "text/plain": [
       "{'edit_history_tweet_ids': ['1120477524633505792'],\n",
       " 'lang': 'es',\n",
       " 'id': '1120477524633505792',\n",
       " 'text': 'RT @MayoralRafa: 60.000 millones, 50.000 millones, 100.000 millones y hasta 200.000 millones de rescate bancario, todo cifras oficiales. Ci…',\n",
       " 'author_id': '266637594'}"
      ]
     },
     "execution_count": 10,
     "metadata": {},
     "output_type": "execute_result"
    }
   ],
   "source": [
    "tweets_list[0][0]"
   ]
  }
 ],
 "metadata": {
  "kernelspec": {
   "display_name": "Python 3 (ipykernel)",
   "language": "python",
   "name": "python3"
  },
  "language_info": {
   "codemirror_mode": {
    "name": "ipython",
    "version": 3
   },
   "file_extension": ".py",
   "mimetype": "text/x-python",
   "name": "python",
   "nbconvert_exporter": "python",
   "pygments_lexer": "ipython3",
   "version": "3.8.5"
  }
 },
 "nbformat": 4,
 "nbformat_minor": 5
}
