{
 "cells": [
  {
   "cell_type": "code",
   "execution_count": 1,
   "id": "9015a5c1",
   "metadata": {},
   "outputs": [],
   "source": [
    "import pandas as pd\n",
    "import datetime\n",
    "import tweepy as tw\n",
    "from ratelimit import limits, sleep_and_retry\n",
    "\n",
    "from keys import *"
   ]
  },
  {
   "cell_type": "code",
   "execution_count": 2,
   "id": "f39fd777",
   "metadata": {},
   "outputs": [],
   "source": [
    "data = pd.read_csv('turkey_ids.csv', header = None)\n",
    "\n",
    "all_ids = list(data[0])"
   ]
  },
  {
   "cell_type": "code",
   "execution_count": 3,
   "id": "82ae4d7d",
   "metadata": {},
   "outputs": [],
   "source": [
    "client = tw.Client(bearer_token=bearer_token)"
   ]
  },
  {
   "cell_type": "code",
   "execution_count": 4,
   "id": "54b52179",
   "metadata": {},
   "outputs": [],
   "source": [
    "tweets_list = []\n",
    "\n",
    "@sleep_and_retry\n",
    "@limits(calls=1, period=3)\n",
    "def get_tweets(tweet_ids):\n",
    "    return client.get_tweets(tweet_ids)\n",
    "\n",
    "\n",
    "def run(no_of_tweets):\n",
    "    \n",
    "    batches = no_of_tweets // 100\n",
    "    \n",
    "    for i in range(batches): \n",
    "        \n",
    "        tweet_ids = all_ids[i*100: i*100+100]\n",
    "        tweets_list.append(get_tweets(tweet_ids))\n",
    "        \n",
    "        print (f'get request was sent {i+1} times!\\n')"
   ]
  },
  {
   "cell_type": "code",
   "execution_count": 5,
   "id": "bae6da7d",
   "metadata": {},
   "outputs": [
    {
     "name": "stdout",
     "output_type": "stream",
     "text": [
      "get request was sent 1 times!\n",
      "\n",
      "get request was sent 2 times!\n",
      "\n",
      "get request was sent 3 times!\n",
      "\n",
      "get request was sent 4 times!\n",
      "\n",
      "get request was sent 5 times!\n",
      "\n",
      "get request was sent 6 times!\n",
      "\n",
      "get request was sent 7 times!\n",
      "\n",
      "get request was sent 8 times!\n",
      "\n",
      "get request was sent 9 times!\n",
      "\n",
      "get request was sent 10 times!\n",
      "\n",
      "runtime: 0:00:27.467787\n"
     ]
    }
   ],
   "source": [
    "begin_time = datetime.datetime.now()\n",
    "\n",
    "run(1000)\n",
    "\n",
    "end_time = datetime.datetime.now()\n",
    "runtime = end_time - begin_time\n",
    "print (f'runtime: {runtime}')"
   ]
  },
  {
   "cell_type": "code",
   "execution_count": 7,
   "id": "6d63ba6e",
   "metadata": {
    "scrolled": false
   },
   "outputs": [
    {
     "name": "stdout",
     "output_type": "stream",
     "text": [
      "RT @omerrcelik: #AyasofyaCamii’nin açılmasından ve milletimizin sevinmesinden rahatsız olanların bu millete ait herşeyle kavgası var. \n",
      "Mill…\n"
     ]
    }
   ],
   "source": [
    "print(tweets_list[0][0][0])"
   ]
  }
 ],
 "metadata": {
  "kernelspec": {
   "display_name": "Python 3 (ipykernel)",
   "language": "python",
   "name": "python3"
  },
  "language_info": {
   "codemirror_mode": {
    "name": "ipython",
    "version": 3
   },
   "file_extension": ".py",
   "mimetype": "text/x-python",
   "name": "python",
   "nbconvert_exporter": "python",
   "pygments_lexer": "ipython3",
   "version": "3.8.5"
  }
 },
 "nbformat": 4,
 "nbformat_minor": 5
}
