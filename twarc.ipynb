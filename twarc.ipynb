{
 "cells": [
  {
   "cell_type": "code",
   "execution_count": 1,
   "id": "83f07701",
   "metadata": {},
   "outputs": [],
   "source": [
    "from twarc import Twarc2, expansions\n",
    "import pandas as pd\n",
    "import json\n",
    "import datetime\n",
    "\n",
    "from keys import *"
   ]
  },
  {
   "cell_type": "code",
   "execution_count": 2,
   "id": "5eee04b9",
   "metadata": {},
   "outputs": [],
   "source": [
    "# data = pd.read_csv('tweet_ids.utf-8.csv')\n",
    "data = pd.read_csv('turkey_ids.csv', header = None)\n",
    "\n",
    "all_ids = list(data[0])"
   ]
  },
  {
   "cell_type": "code",
   "execution_count": 3,
   "id": "8c30c517",
   "metadata": {},
   "outputs": [],
   "source": [
    "# Replace your bearer token below\n",
    "client = Twarc2(bearer_token=bearer_token)\n",
    "\n",
    "\n",
    "def main(ids):\n",
    "    # List of Tweet IDs you want to lookup\n",
    "    tweet_ids = ids\n",
    "    # The tweet_lookup function allows \n",
    "    lookup = client.tweet_lookup(tweet_ids=tweet_ids)\n",
    "    for page in lookup:\n",
    "        # The Twitter API v2 returns the Tweet information and the user, media etc.  separately\n",
    "        # so we use expansions.flatten to get all the information in a single JSON\n",
    "        result = expansions.flatten(page)\n",
    "        for tweet in result:\n",
    "            # Here we are printing the full Tweet object JSON to the console\n",
    "            tweets_list.append((tweet))"
   ]
  },
  {
   "cell_type": "code",
   "execution_count": 4,
   "id": "7e9ba9de",
   "metadata": {
    "scrolled": false
   },
   "outputs": [],
   "source": [
    "tweets_list = []\n",
    "\n",
    "def run(no_of_tweets):\n",
    "    \n",
    "    ids = all_ids[:no_of_tweets]\n",
    "    main(ids)"
   ]
  },
  {
   "cell_type": "code",
   "execution_count": 5,
   "id": "7f3a8282",
   "metadata": {
    "scrolled": true
   },
   "outputs": [
    {
     "name": "stderr",
     "output_type": "stream",
     "text": [
      "rate limit exceeded: sleeping 394.5334687232971 secs\n",
      "rate limit exceeded: sleeping 410.7803101539612 secs\n",
      "rate limit exceeded: sleeping 392.5348753929138 secs\n"
     ]
    },
    {
     "name": "stdout",
     "output_type": "stream",
     "text": [
      "runtime: 0:48:43.271737\n"
     ]
    }
   ],
   "source": [
    "begin_time = datetime.datetime.now()\n",
    "\n",
    "run(100000)\n",
    "\n",
    "end_time = datetime.datetime.now()\n",
    "runtime = end_time - begin_time\n",
    "print (f'runtime: {runtime}')"
   ]
  }
 ],
 "metadata": {
  "kernelspec": {
   "display_name": "Python 3 (ipykernel)",
   "language": "python",
   "name": "python3"
  },
  "language_info": {
   "codemirror_mode": {
    "name": "ipython",
    "version": 3
   },
   "file_extension": ".py",
   "mimetype": "text/x-python",
   "name": "python",
   "nbconvert_exporter": "python",
   "pygments_lexer": "ipython3",
   "version": "3.8.5"
  }
 },
 "nbformat": 4,
 "nbformat_minor": 5
}
