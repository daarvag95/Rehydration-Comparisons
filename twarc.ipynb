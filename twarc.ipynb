{
 "cells": [
  {
   "cell_type": "code",
   "execution_count": 11,
   "id": "83f07701",
   "metadata": {},
   "outputs": [],
   "source": [
    "from twarc import Twarc2, expansions\n",
    "import pandas as pd\n",
    "import json\n",
    "import datetime\n",
    "\n",
    "from keys import *"
   ]
  },
  {
   "cell_type": "code",
   "execution_count": 12,
   "id": "5eee04b9",
   "metadata": {},
   "outputs": [],
   "source": [
    "# data = pd.read_csv('tweet_ids.utf-8.csv')\n",
    "data = pd.read_csv('turkey_ids.csv', header = None)\n",
    "\n",
    "all_ids = list(data[0])"
   ]
  },
  {
   "cell_type": "code",
   "execution_count": 13,
   "id": "8c30c517",
   "metadata": {},
   "outputs": [],
   "source": [
    "# Replace your bearer token below\n",
    "client = Twarc2(bearer_token=bearer_token)\n",
    "\n",
    "\n",
    "def main(ids):\n",
    "    # List of Tweet IDs you want to lookup\n",
    "    tweet_ids = ids\n",
    "    # The tweet_lookup function allows \n",
    "    lookup = client.tweet_lookup(tweet_ids=tweet_ids)\n",
    "    for page in lookup:\n",
    "        # The Twitter API v2 returns the Tweet information and the user, media etc.  separately\n",
    "        # so we use expansions.flatten to get all the information in a single JSON\n",
    "        result = expansions.flatten(page)\n",
    "        for tweet in result:\n",
    "            # Here we are printing the full Tweet object JSON to the console\n",
    "            tweets_list.append((tweet))"
   ]
  },
  {
   "cell_type": "code",
   "execution_count": 14,
   "id": "7e9ba9de",
   "metadata": {
    "scrolled": false
   },
   "outputs": [],
   "source": [
    "tweets_list = []\n",
    "\n",
    "def run(no_of_tweets):\n",
    "    \n",
    "    ids = all_ids[:no_of_tweets]\n",
    "    main(ids)"
   ]
  },
  {
   "cell_type": "code",
   "execution_count": 15,
   "id": "7f3a8282",
   "metadata": {
    "scrolled": true
   },
   "outputs": [
    {
     "name": "stdout",
     "output_type": "stream",
     "text": [
      "runtime: 0:00:17.922371\n"
     ]
    }
   ],
   "source": [
    "begin_time = datetime.datetime.now()\n",
    "\n",
    "run(1000)\n",
    "\n",
    "end_time = datetime.datetime.now()\n",
    "runtime = end_time - begin_time\n",
    "print (f'runtime: {runtime}')"
   ]
  },
  {
   "cell_type": "code",
   "execution_count": 18,
   "id": "a0700558",
   "metadata": {
    "scrolled": false
   },
   "outputs": [
    {
     "data": {
      "text/plain": [
       "{'edit_history_tweet_ids': ['1345033213614415872'],\n",
       " 'text': 'RT @omerrcelik: #AyasofyaCamii’nin açılmasından ve milletimizin sevinmesinden rahatsız olanların bu millete ait herşeyle kavgası var. \\nMill…',\n",
       " 'entities': {'hashtags': [{'start': 16, 'end': 30, 'tag': 'AyasofyaCamii'}],\n",
       "  'mentions': [{'start': 3,\n",
       "    'end': 14,\n",
       "    'username': 'omerrcelik',\n",
       "    'id': '369515882',\n",
       "    'name': 'Ömer Çelik',\n",
       "    'public_metrics': {'followers_count': 1725742,\n",
       "     'following_count': 2677,\n",
       "     'tweet_count': 18814,\n",
       "     'listed_count': 1408},\n",
       "    'url': 'https://t.co/tuDbR1nOIY',\n",
       "    'profile_image_url': 'https://pbs.twimg.com/profile_images/1460378937348038660/zNuQKvm0_normal.jpg',\n",
       "    'created_at': '2011-09-07T14:00:09.000Z',\n",
       "    'description': 'AK Parti Genel Başkan Yardımcısı, Parti Sözcüsü',\n",
       "    'pinned_tweet_id': '1609919516930150403',\n",
       "    'protected': False,\n",
       "    'verified': True,\n",
       "    'location': 'Türkiye',\n",
       "    'entities': {'url': {'urls': [{'start': 0,\n",
       "        'end': 23,\n",
       "        'url': 'https://t.co/tuDbR1nOIY',\n",
       "        'expanded_url': 'https://instagram.com/omerr.celik',\n",
       "        'display_url': 'instagram.com/omerr.celik'}]}}}]},\n",
       " 'possibly_sensitive': False,\n",
       " 'referenced_tweets': [{'type': 'retweeted',\n",
       "   'id': '1345001441686126592',\n",
       "   'edit_history_tweet_ids': ['1345001441686126592'],\n",
       "   'text': '#AyasofyaCamii’nin açılmasından ve milletimizin sevinmesinden rahatsız olanların bu millete ait herşeyle kavgası var. \\nMillete ait olan “Egemenlik kayıtsız şartsız millete aittir” ilkesini de sevmiyorlar.',\n",
       "   'entities': {'hashtags': [{'start': 0, 'end': 14, 'tag': 'AyasofyaCamii'}]},\n",
       "   'possibly_sensitive': False,\n",
       "   'created_at': '2021-01-01T13:38:27.000Z',\n",
       "   'reply_settings': 'everyone',\n",
       "   'public_metrics': {'retweet_count': 2952,\n",
       "    'reply_count': 260,\n",
       "    'like_count': 10940,\n",
       "    'quote_count': 58},\n",
       "   'lang': 'tr',\n",
       "   'conversation_id': '1345001441686126592',\n",
       "   'edit_controls': {'edits_remaining': 5,\n",
       "    'is_edit_eligible': True,\n",
       "    'editable_until': '2021-01-01T14:08:27.000Z'},\n",
       "   'author_id': '369515882',\n",
       "   'author': {'name': 'Ömer Çelik',\n",
       "    'public_metrics': {'followers_count': 1725742,\n",
       "     'following_count': 2677,\n",
       "     'tweet_count': 18814,\n",
       "     'listed_count': 1408},\n",
       "    'url': 'https://t.co/tuDbR1nOIY',\n",
       "    'profile_image_url': 'https://pbs.twimg.com/profile_images/1460378937348038660/zNuQKvm0_normal.jpg',\n",
       "    'created_at': '2011-09-07T14:00:09.000Z',\n",
       "    'description': 'AK Parti Genel Başkan Yardımcısı, Parti Sözcüsü',\n",
       "    'id': '369515882',\n",
       "    'username': 'omerrcelik',\n",
       "    'pinned_tweet_id': '1609919516930150403',\n",
       "    'protected': False,\n",
       "    'verified': True,\n",
       "    'location': 'Türkiye',\n",
       "    'entities': {'url': {'urls': [{'start': 0,\n",
       "        'end': 23,\n",
       "        'url': 'https://t.co/tuDbR1nOIY',\n",
       "        'expanded_url': 'https://instagram.com/omerr.celik',\n",
       "        'display_url': 'instagram.com/omerr.celik'}]}}}}],\n",
       " 'created_at': '2021-01-01T15:44:42.000Z',\n",
       " 'reply_settings': 'everyone',\n",
       " 'public_metrics': {'retweet_count': 2952,\n",
       "  'reply_count': 0,\n",
       "  'like_count': 0,\n",
       "  'quote_count': 0},\n",
       " 'id': '1345033213614415872',\n",
       " 'lang': 'tr',\n",
       " 'conversation_id': '1345033213614415872',\n",
       " 'edit_controls': {'edits_remaining': 5,\n",
       "  'is_edit_eligible': True,\n",
       "  'editable_until': '2021-01-01T16:14:42.000Z'},\n",
       " 'author_id': '183979676',\n",
       " 'author': {'name': 'Mehmet Şükrü ERDİNÇ',\n",
       "  'public_metrics': {'followers_count': 103441,\n",
       "   'following_count': 910,\n",
       "   'tweet_count': 8577,\n",
       "   'listed_count': 146},\n",
       "  'profile_image_url': 'https://pbs.twimg.com/profile_images/1415628450191355910/P4iUS1_t_normal.jpg',\n",
       "  'created_at': '2010-08-28T11:10:21.000Z',\n",
       "  'description': 'AK Parti Adana Milletvekili. Member of Parliament from AK Party. Dijital Mecralar Komisyonu Üyesi, Türkiye-Meksika Parlamentolar arası Dostluk Grubu Başkanı',\n",
       "  'id': '183979676',\n",
       "  'username': 'MSErdinc',\n",
       "  'protected': False,\n",
       "  'verified': True,\n",
       "  'location': 'Adana-Ankara'},\n",
       " '__twarc': {'url': 'https://api.twitter.com/2/tweets?expansions=author_id%2Cin_reply_to_user_id%2Creferenced_tweets.id%2Creferenced_tweets.id.author_id%2Centities.mentions.username%2Cattachments.poll_ids%2Cattachments.media_keys%2Cgeo.place_id%2Cedit_history_tweet_ids&tweet.fields=attachments%2Cauthor_id%2Ccontext_annotations%2Cconversation_id%2Ccreated_at%2Centities%2Cgeo%2Cid%2Cin_reply_to_user_id%2Clang%2Cpublic_metrics%2Ctext%2Cpossibly_sensitive%2Creferenced_tweets%2Creply_settings%2Csource%2Cwithheld%2Cedit_controls&user.fields=created_at%2Cdescription%2Centities%2Cid%2Clocation%2Cname%2Cpinned_tweet_id%2Cprofile_image_url%2Cprotected%2Cpublic_metrics%2Curl%2Cusername%2Cverified%2Cwithheld&media.fields=alt_text%2Cduration_ms%2Cheight%2Cmedia_key%2Cpreview_image_url%2Ctype%2Curl%2Cwidth%2Cpublic_metrics&poll.fields=duration_minutes%2Cend_datetime%2Cid%2Coptions%2Cvoting_status&place.fields=contained_within%2Ccountry%2Ccountry_code%2Cfull_name%2Cgeo%2Cid%2Cname%2Cplace_type&ids=1345033213614415872%2C1345033246690729984%2C1345033297622134785%2C1345333878488264704%2C1345333914425028608%2C1345333928262070275%2C1345333941520232448%2C1345333949900476416%2C1345333959266357248%2C1345333969739538432%2C1345333979826835456%2C1345333991461814273%2C1345334003172311040%2C1345435528284540930%2C1345436029751332871%2C1346167814206464000%2C1346200552531767303%2C1346340385111597058%2C1346903171243925506%2C1347059698680389633%2C1347272426204372993%2C1347541320131371008%2C1348365080925237250%2C1348576749962076160%2C1348629405900414977%2C1348721891922636804%2C1348950877911076866%2C1348956538371780608%2C1349071844620587008%2C1349387943513878530%2C1349388429918932993%2C1349388852763488256%2C1349461006477619202%2C1349717034435817475%2C1349743882595139585%2C1349748684129492993%2C1349749320845819904%2C1349750761350070274%2C1350339538409959424%2C1350488465746644993%2C1351171985196408834%2C1351561590357848066%2C1352237239699435520%2C1352946468265582592%2C1353050959858061312%2C1353668882888859649%2C1353678782637498368%2C1353770446924210192%2C1353770481275514881%2C1353808730874392576%2C1354075918814371842%2C1354356163538800642%2C1354924169163649028%2C1355436959360049155%2C1355437027387432962%2C1355437080084668419%2C1355437100859056130%2C1355798025659179010%2C1356194501312839683%2C1356232469364822020%2C1356944163858771972%2C1357752562821312517%2C1357770410838945792%2C1357811841498505217%2C1359179586119086090%2C1359430048068087809%2C1359564301086908423%2C1359564367726055431%2C1359565017985777665%2C1359812798600077319%2C1359960563632263174%2C1360267552354693120%2C1360309207816355840%2C1360325123404873743%2C1360599757580881921%2C1360620148713922561%2C1361342272806277124%2C1361617775874240512%2C1362137368283803652%2C1362396381172891649%2C1362463380100042752%2C1362636625285697536%2C1362770049073885184%2C1362771018297794564%2C1362777314325585923%2C1362851414586843136%2C1362851530190290946%2C1362862475599822853%2C1362871611939053571%2C1362871789643313152%2C1363551663756312576%2C1363925625971572736%2C1363945785365266432%2C1364100510899437569%2C1364514820242964481%2C1364534578732539904%2C1364867170593886208%2C1364961230218276874%2C1365040275668799493%2C1365359541119045643',\n",
       "  'version': '2.12.0',\n",
       "  'retrieved_at': '2023-01-03T08:29:00+00:00'}}"
      ]
     },
     "execution_count": 18,
     "metadata": {},
     "output_type": "execute_result"
    }
   ],
   "source": [
    "tweets_list[0]"
   ]
  }
 ],
 "metadata": {
  "kernelspec": {
   "display_name": "Python 3 (ipykernel)",
   "language": "python",
   "name": "python3"
  },
  "language_info": {
   "codemirror_mode": {
    "name": "ipython",
    "version": 3
   },
   "file_extension": ".py",
   "mimetype": "text/x-python",
   "name": "python",
   "nbconvert_exporter": "python",
   "pygments_lexer": "ipython3",
   "version": "3.8.5"
  }
 },
 "nbformat": 4,
 "nbformat_minor": 5
}
